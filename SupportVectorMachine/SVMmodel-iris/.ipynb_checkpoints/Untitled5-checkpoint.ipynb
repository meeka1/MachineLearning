{
 "cells": [
  {
   "cell_type": "raw",
   "id": "4261f2ef",
   "metadata": {},
   "source": [
    "1) Написать программу, которая вычисляет сумму всех элементов в списке с длиной 10 (числа берем любые)\n",
    "2) Написать программу \"to-do list\" (список задач на день):\n",
    "- спросить: \"Сколько задач хотите добавить в ежедневник? \" - то есть, количество задач\n",
    "- по количеству задач, спросить: \"Введите задачу, которую нужно выполнить: \" и введенную задачу добавить в список\n",
    "3) Создать список с вашим именем, где каждый элемент это одна буква вашего имени. Вывести на экран ваше имя в обратном порядке"
   ]
  },
  {
   "cell_type": "code",
   "execution_count": null,
   "id": "ce31e6e8",
   "metadata": {},
   "outputs": [],
   "source": [
    "a = input('Сколько задач хотите добавить: ')\n",
    "b = input('Введите задачу которую нужно выполнить: ')\n",
    "Do_homework = [ ]\n",
    "Do_homework.append(a)\n",
    "Do_homework.append(b)\n",
    "print(Do_homework)"
   ]
  },
  {
   "cell_type": "code",
   "execution_count": 5,
   "id": "3cbfd84e",
   "metadata": {},
   "outputs": [
    {
     "name": "stdout",
     "output_type": "stream",
     "text": [
      "['з', 'у', 'р', 'х', 'а', 'Ш']\n"
     ]
    }
   ],
   "source": [
    "go_go = ['Ш', 'а', 'х', 'р', 'у', 'з']\n",
    "print(go_go[-1: -7:-1])"
   ]
  },
  {
   "cell_type": "code",
   "execution_count": null,
   "id": "edb55f45",
   "metadata": {},
   "outputs": [],
   "source": [
    "tasks = [\"1.Встать 6:00\",\"2.Помыть зубы\",\"3.Позаниматься спортом\",\"4.Позавтракать\",\"5.Уборка\",\"6.Погулять\"]\n",
    "print(\"Список заданий\",tasks)\n",
    "counter=int(input('Сколько задач хотите добавить в ежедневник?: '))\n",
    "addtasks = 0\n",
    "while addtasks <= counter:\n",
    "    tasks = tasks.append(input('Введите задачу, которую нужно выполнить: '))\n",
    "    counter+= 1\n",
    "    print(tasks)\n"
   ]
  },
  {
   "cell_type": "code",
   "execution_count": 6,
   "id": "e19de67f",
   "metadata": {},
   "outputs": [
    {
     "name": "stdout",
     "output_type": "stream",
     "text": [
      "10\n"
     ]
    }
   ],
   "source": [
    "# 1)\n",
    "\n",
    "numbers = [1, 2, 3, 4, 5, 6, 7, 8, 9, 10]\n",
    "print(len(numbers))\n"
   ]
  },
  {
   "cell_type": "code",
   "execution_count": 13,
   "id": "1e09e70f",
   "metadata": {},
   "outputs": [
    {
     "name": "stdout",
     "output_type": "stream",
     "text": [
      "['r', 'a', 's', 'y', 'a', 'k']\n",
      "6\n"
     ]
    }
   ],
   "source": [
    "#3)\n",
    "name = [\"k\",\"a\",\"y\",\"s\",\"a\",\"r\"]\n",
    "print(name[6::-1])"
   ]
  },
  {
   "cell_type": "code",
   "execution_count": 7,
   "id": "26918f7e",
   "metadata": {},
   "outputs": [
    {
     "name": "stdout",
     "output_type": "stream",
     "text": [
      "Введите первое значение:1\n",
      "Введите второе значение:2\n",
      "Введите третье значение:3\n",
      "Введите четвертое значение:4\n",
      "Введите пятое значение:5\n",
      "Введите шестое значение:6\n",
      "Введите седьмое значение:7\n",
      "Введите восьмое значение:8\n",
      "Введите девятое значение:9\n",
      "Введите десятое значение:10\n"
     ]
    },
    {
     "ename": "IndexError",
     "evalue": "list index out of range",
     "output_type": "error",
     "traceback": [
      "\u001b[1;31m---------------------------------------------------------------------------\u001b[0m",
      "\u001b[1;31mIndexError\u001b[0m                                Traceback (most recent call last)",
      "\u001b[1;32m<ipython-input-7-9fea33e86bf2>\u001b[0m in \u001b[0;36m<module>\u001b[1;34m\u001b[0m\n\u001b[0;32m      1\u001b[0m \u001b[0manswer\u001b[0m \u001b[1;33m=\u001b[0m \u001b[1;33m[\u001b[0m\u001b[0mint\u001b[0m\u001b[1;33m(\u001b[0m\u001b[0minput\u001b[0m\u001b[1;33m(\u001b[0m\u001b[1;34m\"Введите первое значение:\"\u001b[0m\u001b[1;33m)\u001b[0m\u001b[1;33m)\u001b[0m\u001b[1;33m,\u001b[0m\u001b[0mint\u001b[0m\u001b[1;33m(\u001b[0m\u001b[0minput\u001b[0m\u001b[1;33m(\u001b[0m\u001b[1;34m\"Введите второе значение:\"\u001b[0m\u001b[1;33m)\u001b[0m\u001b[1;33m)\u001b[0m\u001b[1;33m,\u001b[0m\u001b[0mint\u001b[0m\u001b[1;33m(\u001b[0m\u001b[0minput\u001b[0m\u001b[1;33m(\u001b[0m\u001b[1;34m\"Введите третье значение:\"\u001b[0m\u001b[1;33m)\u001b[0m\u001b[1;33m)\u001b[0m\u001b[1;33m,\u001b[0m\u001b[0mint\u001b[0m\u001b[1;33m(\u001b[0m\u001b[0minput\u001b[0m\u001b[1;33m(\u001b[0m\u001b[1;34m\"Введите четвертое значение:\"\u001b[0m\u001b[1;33m)\u001b[0m\u001b[1;33m)\u001b[0m\u001b[1;33m,\u001b[0m\u001b[0mint\u001b[0m\u001b[1;33m(\u001b[0m\u001b[0minput\u001b[0m\u001b[1;33m(\u001b[0m\u001b[1;34m\"Введите пятое значение:\"\u001b[0m\u001b[1;33m)\u001b[0m\u001b[1;33m)\u001b[0m\u001b[1;33m,\u001b[0m\u001b[0mint\u001b[0m\u001b[1;33m(\u001b[0m\u001b[0minput\u001b[0m\u001b[1;33m(\u001b[0m\u001b[1;34m\"Введите шестое значение:\"\u001b[0m\u001b[1;33m)\u001b[0m\u001b[1;33m)\u001b[0m\u001b[1;33m,\u001b[0m\u001b[0mint\u001b[0m\u001b[1;33m(\u001b[0m\u001b[0minput\u001b[0m\u001b[1;33m(\u001b[0m\u001b[1;34m\"Введите седьмое значение:\"\u001b[0m\u001b[1;33m)\u001b[0m\u001b[1;33m)\u001b[0m\u001b[1;33m,\u001b[0m\u001b[0mint\u001b[0m\u001b[1;33m(\u001b[0m\u001b[0minput\u001b[0m\u001b[1;33m(\u001b[0m\u001b[1;34m\"Введите восьмое значение:\"\u001b[0m\u001b[1;33m)\u001b[0m\u001b[1;33m)\u001b[0m\u001b[1;33m,\u001b[0m\u001b[0mint\u001b[0m\u001b[1;33m(\u001b[0m\u001b[0minput\u001b[0m\u001b[1;33m(\u001b[0m\u001b[1;34m\"Введите девятое значение:\"\u001b[0m\u001b[1;33m)\u001b[0m\u001b[1;33m)\u001b[0m\u001b[1;33m,\u001b[0m\u001b[0mint\u001b[0m\u001b[1;33m(\u001b[0m\u001b[0minput\u001b[0m\u001b[1;33m(\u001b[0m\u001b[1;34m\"Введите десятое значение:\"\u001b[0m\u001b[1;33m)\u001b[0m\u001b[1;33m)\u001b[0m\u001b[1;33m,\u001b[0m\u001b[1;33m]\u001b[0m\u001b[1;33m\u001b[0m\u001b[1;33m\u001b[0m\u001b[0m\n\u001b[1;32m----> 2\u001b[1;33m \u001b[0mprint\u001b[0m\u001b[1;33m(\u001b[0m\u001b[1;34m\"Ответ\"\u001b[0m\u001b[1;33m,\u001b[0m \u001b[1;34m\"=\"\u001b[0m\u001b[1;33m,\u001b[0m \u001b[0manswer\u001b[0m\u001b[1;33m[\u001b[0m\u001b[1;36m0\u001b[0m\u001b[1;33m+\u001b[0m\u001b[1;36m1\u001b[0m\u001b[1;33m+\u001b[0m\u001b[1;36m2\u001b[0m\u001b[1;33m+\u001b[0m\u001b[1;36m3\u001b[0m\u001b[1;33m+\u001b[0m\u001b[1;36m4\u001b[0m\u001b[1;33m+\u001b[0m\u001b[1;36m5\u001b[0m\u001b[1;33m+\u001b[0m\u001b[1;36m6\u001b[0m\u001b[1;33m+\u001b[0m\u001b[1;36m7\u001b[0m\u001b[1;33m+\u001b[0m\u001b[1;36m8\u001b[0m\u001b[1;33m+\u001b[0m\u001b[1;36m9\u001b[0m\u001b[1;33m]\u001b[0m\u001b[1;33m)\u001b[0m\u001b[1;33m\u001b[0m\u001b[1;33m\u001b[0m\u001b[0m\n\u001b[0m",
      "\u001b[1;31mIndexError\u001b[0m: list index out of range"
     ]
    }
   ],
   "source": [
    "answer = [int(input(\"Введите первое значение:\")),int(input(\"Введите второе значение:\")),int(input(\"Введите третье значение:\")),int(input(\"Введите четвертое значение:\")),int(input(\"Введите пятое значение:\")),int(input(\"Введите шестое значение:\")),int(input(\"Введите седьмое значение:\")),int(input(\"Введите восьмое значение:\")),int(input(\"Введите девятое значение:\")),int(input(\"Введите десятое значение:\")),]\n",
    "print(\"Ответ\", \"=\", answer[0]+answer[1]+answer[2]+....+answer[9])\n"
   ]
  },
  {
   "cell_type": "raw",
   "id": "5bc3727a",
   "metadata": {},
   "source": [
    "1) Написать программу, которая вычисляет сумму всех элементов в списке с длиной 10 (числа берем любые)"
   ]
  },
  {
   "cell_type": "code",
   "execution_count": 20,
   "id": "1679c320",
   "metadata": {},
   "outputs": [
    {
     "name": "stdout",
     "output_type": "stream",
     "text": [
      "Введите число: 1\n",
      "Введите число: 2\n",
      "Введите число: 3\n",
      "Введите число: 4\n",
      "Введите число: 5\n",
      "Введите число: 6\n",
      "Введите число: 7\n",
      "Введите число: 8\n",
      "Введите число: 9\n",
      "Введите число: 10\n",
      "Ваш список готов: [1, 2, 3, 4, 5, 6, 7, 8, 9, 10]\n",
      "Сумма всех чисел в списке: 55\n"
     ]
    }
   ],
   "source": [
    "new_list = []\n",
    "sum_of_numbers = 0\n",
    "\n",
    "for i in range(10):\n",
    "    number = int(input('Введите число: '))\n",
    "    new_list.append(number)\n",
    "print('Ваш список готов:',new_list)\n",
    "\n",
    "for number in new_list:\n",
    "    sum_of_numbers = sum_of_numbers+number \n",
    "print('Сумма всех чисел в списке:',sum_of_numbers)"
   ]
  },
  {
   "cell_type": "raw",
   "id": "0f891e67",
   "metadata": {},
   "source": [
    "2) Написать программу \"to-do list\" (список задач на день):\n",
    "- спросить: \"Сколько задач хотите добавить в ежедневник? \" - то есть, количество задач\n",
    "- по количеству задач, спросить: \"Введите задачу, которую нужно выполнить: \" и введенную задачу добавить в список"
   ]
  },
  {
   "cell_type": "code",
   "execution_count": 22,
   "id": "e06de1eb",
   "metadata": {},
   "outputs": [
    {
     "name": "stdout",
     "output_type": "stream",
     "text": [
      "Сколько задач хотите добавить в ежедневник? 3\n",
      "Введите задачу, которую нужно выполнить: встать 7.00\n",
      "Введите задачу, которую нужно выполнить: поесть\n",
      "Введите задачу, которую нужно выполнить: выполнить дз\n",
      "Ваши задачи на сегодня: ['встать 7.00', 'поесть', 'выполнить дз']\n"
     ]
    }
   ],
   "source": [
    "number = int(input('Сколько задач хотите добавить в ежедневник? '))\n",
    "list_of_tasks = []\n",
    "\n",
    "for i in range(number):\n",
    "    task = input('Введите задачу, которую нужно выполнить: ')\n",
    "    list_of_tasks.append(task)\n",
    "print('Ваши задачи на сегодня:',list_of_tasks)"
   ]
  },
  {
   "cell_type": "code",
   "execution_count": 23,
   "id": "2e687363",
   "metadata": {},
   "outputs": [
    {
     "name": "stdout",
     "output_type": "stream",
     "text": [
      "Введите число: 1\n",
      "Введите число: 2\n",
      "Введите число: 3\n",
      "Введите число: 4\n",
      "Введите число: 5\n",
      "Введите число: 6\n",
      "Введите число: 7\n",
      "Введите число: 8\n",
      "Введите число: 9\n",
      "Введите число: 10\n",
      "Ваш список готов: [1, 2, 3, 4, 5, 6, 7, 8, 9, 10]\n",
      "55\n"
     ]
    }
   ],
   "source": [
    "new_list = []\n",
    "\n",
    "for i in range(10):\n",
    "    number = int(input('Введите число: '))\n",
    "    new_list.append(number)\n",
    "print('Ваш список готов:',new_list)\n",
    "\n",
    "sum_of_numbers = sum(new_list)"
   ]
  },
  {
   "cell_type": "raw",
   "id": "82f67500",
   "metadata": {},
   "source": [
    "3) Создать список с вашим именем, где каждый элемент это одна буква вашего имени. Вывести на экран ваше имя в обратном порядке"
   ]
  },
  {
   "cell_type": "code",
   "execution_count": 28,
   "id": "ddc94480",
   "metadata": {},
   "outputs": [
    {
     "name": "stdout",
     "output_type": "stream",
     "text": [
      "['r', 'a', 's', 'y', 'a', 'k']\n"
     ]
    }
   ],
   "source": [
    "name = [\"k\",\"a\",\"y\",\"s\",\"a\",\"r\"]\n",
    "print(name[::-1])"
   ]
  },
  {
   "cell_type": "code",
   "execution_count": null,
   "id": "632ac30b",
   "metadata": {},
   "outputs": [],
   "source": []
  }
 ],
 "metadata": {
  "kernelspec": {
   "display_name": "Python 3",
   "language": "python",
   "name": "python3"
  },
  "language_info": {
   "codemirror_mode": {
    "name": "ipython",
    "version": 3
   },
   "file_extension": ".py",
   "mimetype": "text/x-python",
   "name": "python",
   "nbconvert_exporter": "python",
   "pygments_lexer": "ipython3",
   "version": "3.8.8"
  }
 },
 "nbformat": 4,
 "nbformat_minor": 5
}
